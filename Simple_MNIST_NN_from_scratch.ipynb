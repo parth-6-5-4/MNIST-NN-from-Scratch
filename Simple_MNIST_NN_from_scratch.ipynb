{
  "metadata": {
    "kernelspec": {
      "display_name": "Python 3",
      "name": "python3"
    },
    "language_info": {
      "pygments_lexer": "ipython3",
      "nbconvert_exporter": "python",
      "version": "3.6.4",
      "file_extension": ".py",
      "codemirror_mode": {
        "name": "ipython",
        "version": 3
      },
      "name": "python",
      "mimetype": "text/x-python"
    },
    "kaggle": {
      "accelerator": "none",
      "dataSources": [
        {
          "sourceId": 3004,
          "databundleVersionId": 861823,
          "sourceType": "competition"
        }
      ],
      "dockerImageVersionId": 30035,
      "isInternetEnabled": false,
      "language": "python",
      "sourceType": "notebook",
      "isGpuEnabled": false
    },
    "colab": {
      "provenance": [],
      "gpuType": "T4",
      "include_colab_link": true
    },
    "accelerator": "GPU"
  },
  "nbformat_minor": 0,
  "nbformat": 4,
  "cells": [
    {
      "cell_type": "markdown",
      "metadata": {
        "id": "view-in-github",
        "colab_type": "text"
      },
      "source": [
        "<a href=\"https://colab.research.google.com/github/parth-6-5-4/Chat-GPT-clone/blob/main/Simple_MNIST_NN_from_scratch.ipynb\" target=\"_parent\"><img src=\"https://colab.research.google.com/assets/colab-badge.svg\" alt=\"Open In Colab\"/></a>"
      ]
    },
    {
      "source": [
        "import os\n",
        "import sys\n",
        "from tempfile import NamedTemporaryFile\n",
        "from urllib.request import urlopen\n",
        "from urllib.parse import unquote, urlparse\n",
        "from urllib.error import HTTPError\n",
        "from zipfile import ZipFile\n",
        "import tarfile\n",
        "import shutil\n",
        "\n",
        "CHUNK_SIZE = 40960\n",
        "DATA_SOURCE_MAPPING = 'digit-recognizer:https%3A%2F%2Fstorage.googleapis.com%2Fkaggle-competitions-data%2Fkaggle-v2%2F3004%2F861823%2Fbundle%2Farchive.zip%3FX-Goog-Algorithm%3DGOOG4-RSA-SHA256%26X-Goog-Credential%3Dgcp-kaggle-com%2540kaggle-161607.iam.gserviceaccount.com%252F20240627%252Fauto%252Fstorage%252Fgoog4_request%26X-Goog-Date%3D20240627T072520Z%26X-Goog-Expires%3D259200%26X-Goog-SignedHeaders%3Dhost%26X-Goog-Signature%3D405d9d3a59e4cbc03abf6aec0635b72f1aa55cef9fa5020a86db133c84312ee42942c6ee59897bb51d8017ca4ef78be7b9166d250a826564b39ab2ab6dd8d9b375dba723e0b3f88288ab2fc9349edcf3303bc793a073e8f9e98bf5be0d157118d1c5079c5503e32499d1749fb68f2cea0962ff337b8630b0eaa5c5c8ca9b901e7089f778966e3edb49cf7c6817d1664650a7b3cb7c30916ddd1c4d72ad9d29049788e0d8e1756b1583fdc4ca295c13210ba31858484720a5dafe2786532e3687734511e0c031f969d9a1c907d9d36b08ab2f57286b8e99b18efbc1b2040d6972c3d6b856cc0e359a6167317631e83ae3dab181b944c43334b37cc7ba94c1922d'\n",
        "\n",
        "KAGGLE_INPUT_PATH='/kaggle/input'\n",
        "KAGGLE_WORKING_PATH='/kaggle/working'\n",
        "KAGGLE_SYMLINK='kaggle'\n",
        "\n",
        "!umount /kaggle/input/ 2> /dev/null\n",
        "shutil.rmtree('/kaggle/input', ignore_errors=True)\n",
        "os.makedirs(KAGGLE_INPUT_PATH, 0o777, exist_ok=True)\n",
        "os.makedirs(KAGGLE_WORKING_PATH, 0o777, exist_ok=True)\n",
        "\n",
        "try:\n",
        "  os.symlink(KAGGLE_INPUT_PATH, os.path.join(\"..\", 'input'), target_is_directory=True)\n",
        "except FileExistsError:\n",
        "  pass\n",
        "try:\n",
        "  os.symlink(KAGGLE_WORKING_PATH, os.path.join(\"..\", 'working'), target_is_directory=True)\n",
        "except FileExistsError:\n",
        "  pass\n",
        "\n",
        "for data_source_mapping in DATA_SOURCE_MAPPING.split(','):\n",
        "    directory, download_url_encoded = data_source_mapping.split(':')\n",
        "    download_url = unquote(download_url_encoded)\n",
        "    filename = urlparse(download_url).path\n",
        "    destination_path = os.path.join(KAGGLE_INPUT_PATH, directory)\n",
        "    try:\n",
        "        with urlopen(download_url) as fileres, NamedTemporaryFile() as tfile:\n",
        "            total_length = fileres.headers['content-length']\n",
        "            print(f'Downloading {directory}, {total_length} bytes compressed')\n",
        "            dl = 0\n",
        "            data = fileres.read(CHUNK_SIZE)\n",
        "            while len(data) > 0:\n",
        "                dl += len(data)\n",
        "                tfile.write(data)\n",
        "                done = int(50 * dl / int(total_length))\n",
        "                sys.stdout.write(f\"\\r[{'=' * done}{' ' * (50-done)}] {dl} bytes downloaded\")\n",
        "                sys.stdout.flush()\n",
        "                data = fileres.read(CHUNK_SIZE)\n",
        "            if filename.endswith('.zip'):\n",
        "              with ZipFile(tfile) as zfile:\n",
        "                zfile.extractall(destination_path)\n",
        "            else:\n",
        "              with tarfile.open(tfile.name) as tarfile:\n",
        "                tarfile.extractall(destination_path)\n",
        "            print(f'\\nDownloaded and uncompressed: {directory}')\n",
        "    except HTTPError as e:\n",
        "        print(f'Failed to load (likely expired) {download_url} to path {destination_path}')\n",
        "        continue\n",
        "    except OSError as e:\n",
        "        print(f'Failed to load {download_url} to path {destination_path}')\n",
        "        continue\n",
        "\n",
        "print('Data source import complete.')\n"
      ],
      "metadata": {
        "id": "b-z3qdjWmDr3",
        "colab": {
          "base_uri": "https://localhost:8080/"
        },
        "outputId": "c3c6eca4-a6a2-407c-fe88-73295274c457"
      },
      "cell_type": "code",
      "outputs": [
        {
          "output_type": "stream",
          "name": "stdout",
          "text": [
            "Downloading digit-recognizer, 16054568 bytes compressed\n",
            "[==================================================] 16054568 bytes downloaded\n",
            "Downloaded and uncompressed: digit-recognizer\n",
            "Data source import complete.\n"
          ]
        }
      ],
      "execution_count": 1
    },
    {
      "cell_type": "markdown",
      "source": [
        "# Simple MNIST NN from scratch\n",
        "\n",
        "In this notebook, I implemented a simple two-layer neural network and trained it on the MNIST digit recognizer dataset.\n",
        "\n"
      ],
      "metadata": {
        "id": "faWxTXDlmDr7"
      }
    },
    {
      "cell_type": "code",
      "source": [
        "import numpy as np\n",
        "import pandas as pd\n",
        "from matplotlib import pyplot as plt\n",
        "\n",
        "data = pd.read_csv('/kaggle/input/digit-recognizer/train.csv')"
      ],
      "metadata": {
        "_uuid": "8f2839f25d086af736a60e9eeb907d3b93b6e0e5",
        "_cell_guid": "b1076dfc-b9ad-4769-8c92-a6c4dae69d19",
        "trusted": true,
        "id": "9Q85oZASmDr8"
      },
      "execution_count": 2,
      "outputs": []
    },
    {
      "cell_type": "code",
      "source": [
        "data = np.array(data)\n",
        "m, n = data.shape\n",
        "np.random.shuffle(data) # shuffle before splitting into dev and training sets\n",
        "\n",
        "data_dev = data[0:1000].T\n",
        "Y_dev = data_dev[0]\n",
        "X_dev = data_dev[1:n]\n",
        "X_dev = X_dev / 255.\n",
        "\n",
        "data_train = data[1000:m].T\n",
        "Y_train = data_train[0]\n",
        "X_train = data_train[1:n]\n",
        "X_train = X_train / 255.\n",
        "_,m_train = X_train.shape"
      ],
      "metadata": {
        "trusted": true,
        "id": "KsOdbOn5mDr9"
      },
      "execution_count": 3,
      "outputs": []
    },
    {
      "cell_type": "code",
      "source": [
        "Y_train"
      ],
      "metadata": {
        "trusted": true,
        "id": "mpPPJeEVmDr9",
        "colab": {
          "base_uri": "https://localhost:8080/"
        },
        "outputId": "a78a112b-2ba4-4d94-f3c0-4b27db7644cf"
      },
      "execution_count": 4,
      "outputs": [
        {
          "output_type": "execute_result",
          "data": {
            "text/plain": [
              "array([3, 2, 2, ..., 3, 7, 7])"
            ]
          },
          "metadata": {},
          "execution_count": 4
        }
      ]
    },
    {
      "cell_type": "markdown",
      "source": [
        "Our NN will have a simple two-layer architecture. Input layer $a^{[0]}$ will have 784 units corresponding to the 784 pixels in each 28x28 input image. A hidden layer $a^{[1]}$ will have 10 units with ReLU activation, and finally our output layer $a^{[2]}$ will have 10 units corresponding to the ten digit classes with softmax activation.\n",
        "\n",
        "**Forward propagation**\n",
        "\n",
        "$$Z^{[1]} = W^{[1]} X + b^{[1]}$$\n",
        "$$A^{[1]} = g_{\\text{ReLU}}(Z^{[1]}))$$\n",
        "$$Z^{[2]} = W^{[2]} A^{[1]} + b^{[2]}$$\n",
        "$$A^{[2]} = g_{\\text{softmax}}(Z^{[2]})$$\n",
        "\n",
        "**Backward propagation**\n",
        "\n",
        "$$dZ^{[2]} = A^{[2]} - Y$$\n",
        "$$dW^{[2]} = \\frac{1}{m} dZ^{[2]} A^{[1]T}$$\n",
        "$$dB^{[2]} = \\frac{1}{m} \\Sigma {dZ^{[2]}}$$\n",
        "$$dZ^{[1]} = W^{[2]T} dZ^{[2]} .* g^{[1]\\prime} (z^{[1]})$$\n",
        "$$dW^{[1]} = \\frac{1}{m} dZ^{[1]} A^{[0]T}$$\n",
        "$$dB^{[1]} = \\frac{1}{m} \\Sigma {dZ^{[1]}}$$\n",
        "\n",
        "**Parameter updates**\n",
        "\n",
        "$$W^{[2]} := W^{[2]} - \\alpha dW^{[2]}$$\n",
        "$$b^{[2]} := b^{[2]} - \\alpha db^{[2]}$$\n",
        "$$W^{[1]} := W^{[1]} - \\alpha dW^{[1]}$$\n",
        "$$b^{[1]} := b^{[1]} - \\alpha db^{[1]}$$\n",
        "\n",
        "**Vars and shapes**\n",
        "\n",
        "Forward prop\n",
        "\n",
        "- $A^{[0]} = X$: 784 x m\n",
        "- $Z^{[1]} \\sim A^{[1]}$: 10 x m\n",
        "- $W^{[1]}$: 10 x 784 (as $W^{[1]} A^{[0]} \\sim Z^{[1]}$)\n",
        "- $B^{[1]}$: 10 x 1\n",
        "- $Z^{[2]} \\sim A^{[2]}$: 10 x m\n",
        "- $W^{[1]}$: 10 x 10 (as $W^{[2]} A^{[1]} \\sim Z^{[2]}$)\n",
        "- $B^{[2]}$: 10 x 1\n",
        "\n",
        "Backprop\n",
        "\n",
        "- $dZ^{[2]}$: 10 x m ($~A^{[2]}$)\n",
        "- $dW^{[2]}$: 10 x 10\n",
        "- $dB^{[2]}$: 10 x 1\n",
        "- $dZ^{[1]}$: 10 x m ($~A^{[1]}$)\n",
        "- $dW^{[1]}$: 10 x 10\n",
        "- $dB^{[1]}$: 10 x 1"
      ],
      "metadata": {
        "id": "DG8915lwmDr9"
      }
    },
    {
      "cell_type": "code",
      "source": [
        "def init_params():\n",
        "    W1 = np.random.rand(10, 784) - 0.5\n",
        "    b1 = np.random.rand(10, 1) - 0.5\n",
        "    W2 = np.random.rand(10, 10) - 0.5\n",
        "    b2 = np.random.rand(10, 1) - 0.5\n",
        "    return W1, b1, W2, b2\n",
        "\n",
        "def ReLU(Z):\n",
        "    return np.maximum(Z, 0)\n",
        "\n",
        "def softmax(Z):\n",
        "    A = np.exp(Z) / sum(np.exp(Z))\n",
        "    return A\n",
        "\n",
        "def forward_prop(W1, b1, W2, b2, X):\n",
        "    Z1 = W1.dot(X) + b1\n",
        "    A1 = ReLU(Z1)\n",
        "    Z2 = W2.dot(A1) + b2\n",
        "    A2 = softmax(Z2)\n",
        "    return Z1, A1, Z2, A2\n",
        "\n",
        "def ReLU_deriv(Z):\n",
        "    return Z > 0\n",
        "\n",
        "def one_hot(Y):\n",
        "    one_hot_Y = np.zeros((Y.size, Y.max() + 1))\n",
        "    one_hot_Y[np.arange(Y.size), Y] = 1\n",
        "    one_hot_Y = one_hot_Y.T\n",
        "    return one_hot_Y\n",
        "\n",
        "def backward_prop(Z1, A1, Z2, A2, W1, W2, X, Y):\n",
        "    one_hot_Y = one_hot(Y)\n",
        "    dZ2 = A2 - one_hot_Y\n",
        "    dW2 = 1 / m * dZ2.dot(A1.T)\n",
        "    db2 = 1 / m * np.sum(dZ2)\n",
        "    dZ1 = W2.T.dot(dZ2) * ReLU_deriv(Z1)\n",
        "    dW1 = 1 / m * dZ1.dot(X.T)\n",
        "    db1 = 1 / m * np.sum(dZ1)\n",
        "    return dW1, db1, dW2, db2\n",
        "\n",
        "def update_params(W1, b1, W2, b2, dW1, db1, dW2, db2, alpha):\n",
        "    W1 = W1 - alpha * dW1\n",
        "    b1 = b1 - alpha * db1\n",
        "    W2 = W2 - alpha * dW2\n",
        "    b2 = b2 - alpha * db2\n",
        "    return W1, b1, W2, b2"
      ],
      "metadata": {
        "trusted": true,
        "id": "GEWOLnvSmDr9"
      },
      "execution_count": 5,
      "outputs": []
    },
    {
      "cell_type": "code",
      "source": [
        "def get_predictions(A2):\n",
        "    return np.argmax(A2, 0)\n",
        "\n",
        "def get_accuracy(predictions, Y):\n",
        "    print(predictions, Y)\n",
        "    return np.sum(predictions == Y) / Y.size\n",
        "\n",
        "def gradient_descent(X, Y, alpha, iterations):\n",
        "    W1, b1, W2, b2 = init_params()\n",
        "    for i in range(iterations):\n",
        "        Z1, A1, Z2, A2 = forward_prop(W1, b1, W2, b2, X)\n",
        "        dW1, db1, dW2, db2 = backward_prop(Z1, A1, Z2, A2, W1, W2, X, Y)\n",
        "        W1, b1, W2, b2 = update_params(W1, b1, W2, b2, dW1, db1, dW2, db2, alpha)\n",
        "        if i % 10 == 0:\n",
        "            print(\"Iteration: \", i)\n",
        "            predictions = get_predictions(A2)\n",
        "            print(get_accuracy(predictions, Y))\n",
        "    return W1, b1, W2, b2"
      ],
      "metadata": {
        "trusted": true,
        "id": "4LpuaHejmDr-"
      },
      "execution_count": 6,
      "outputs": []
    },
    {
      "cell_type": "code",
      "source": [
        "W1, b1, W2, b2 = gradient_descent(X_train, Y_train, 0.20, 650)"
      ],
      "metadata": {
        "trusted": true,
        "id": "Z8ofm2EcmDr-",
        "colab": {
          "base_uri": "https://localhost:8080/"
        },
        "outputId": "d2adc2c7-4786-4b41-d614-6bc035027e07"
      },
      "execution_count": 20,
      "outputs": [
        {
          "output_type": "stream",
          "name": "stdout",
          "text": [
            "Iteration:  0\n",
            "[2 1 2 ... 4 4 7] [3 2 2 ... 3 7 7]\n",
            "0.10439024390243902\n",
            "Iteration:  10\n",
            "[7 0 9 ... 3 5 7] [3 2 2 ... 3 7 7]\n",
            "0.22846341463414635\n",
            "Iteration:  20\n",
            "[7 0 2 ... 3 2 7] [3 2 2 ... 3 7 7]\n",
            "0.31521951219512195\n",
            "Iteration:  30\n",
            "[7 6 2 ... 8 6 7] [3 2 2 ... 3 7 7]\n",
            "0.41165853658536583\n",
            "Iteration:  40\n",
            "[2 2 2 ... 3 6 7] [3 2 2 ... 3 7 7]\n",
            "0.48802439024390243\n",
            "Iteration:  50\n",
            "[2 2 2 ... 3 6 7] [3 2 2 ... 3 7 7]\n",
            "0.5487804878048781\n",
            "Iteration:  60\n",
            "[2 2 2 ... 3 6 7] [3 2 2 ... 3 7 7]\n",
            "0.5985853658536585\n",
            "Iteration:  70\n",
            "[2 2 2 ... 3 6 7] [3 2 2 ... 3 7 7]\n",
            "0.6413658536585366\n",
            "Iteration:  80\n",
            "[2 2 2 ... 3 6 7] [3 2 2 ... 3 7 7]\n",
            "0.673829268292683\n",
            "Iteration:  90\n",
            "[2 2 2 ... 3 6 7] [3 2 2 ... 3 7 7]\n",
            "0.6986585365853658\n",
            "Iteration:  100\n",
            "[2 2 2 ... 3 6 7] [3 2 2 ... 3 7 7]\n",
            "0.7203414634146341\n",
            "Iteration:  110\n",
            "[2 2 2 ... 3 6 7] [3 2 2 ... 3 7 7]\n",
            "0.7401219512195122\n",
            "Iteration:  120\n",
            "[2 2 2 ... 3 9 7] [3 2 2 ... 3 7 7]\n",
            "0.7537560975609756\n",
            "Iteration:  130\n",
            "[2 2 2 ... 3 9 7] [3 2 2 ... 3 7 7]\n",
            "0.6892439024390243\n",
            "Iteration:  140\n",
            "[2 2 2 ... 3 9 7] [3 2 2 ... 3 7 7]\n",
            "0.7478780487804878\n",
            "Iteration:  150\n",
            "[2 2 2 ... 3 9 7] [3 2 2 ... 3 7 7]\n",
            "0.769219512195122\n",
            "Iteration:  160\n",
            "[2 2 2 ... 3 9 7] [3 2 2 ... 3 7 7]\n",
            "0.776\n",
            "Iteration:  170\n",
            "[2 2 2 ... 3 9 7] [3 2 2 ... 3 7 7]\n",
            "0.7812926829268293\n",
            "Iteration:  180\n",
            "[2 2 2 ... 3 9 7] [3 2 2 ... 3 7 7]\n",
            "0.7887073170731708\n",
            "Iteration:  190\n",
            "[2 2 2 ... 3 9 7] [3 2 2 ... 3 7 7]\n",
            "0.7955853658536586\n",
            "Iteration:  200\n",
            "[2 2 2 ... 3 9 7] [3 2 2 ... 3 7 7]\n",
            "0.8015853658536586\n",
            "Iteration:  210\n",
            "[2 2 2 ... 3 9 7] [3 2 2 ... 3 7 7]\n",
            "0.8067804878048781\n",
            "Iteration:  220\n",
            "[2 2 2 ... 3 9 7] [3 2 2 ... 3 7 7]\n",
            "0.8119024390243903\n",
            "Iteration:  230\n",
            "[2 2 2 ... 3 9 7] [3 2 2 ... 3 7 7]\n",
            "0.8169024390243902\n",
            "Iteration:  240\n",
            "[2 2 2 ... 3 9 7] [3 2 2 ... 3 7 7]\n",
            "0.8206097560975609\n",
            "Iteration:  250\n",
            "[2 2 2 ... 3 9 7] [3 2 2 ... 3 7 7]\n",
            "0.8245365853658536\n",
            "Iteration:  260\n",
            "[2 2 2 ... 3 9 7] [3 2 2 ... 3 7 7]\n",
            "0.8284146341463414\n",
            "Iteration:  270\n",
            "[2 2 2 ... 3 9 7] [3 2 2 ... 3 7 7]\n",
            "0.8317560975609756\n",
            "Iteration:  280\n",
            "[2 2 2 ... 3 9 7] [3 2 2 ... 3 7 7]\n",
            "0.8343414634146341\n",
            "Iteration:  290\n",
            "[2 2 2 ... 3 9 7] [3 2 2 ... 3 7 7]\n",
            "0.8368292682926829\n",
            "Iteration:  300\n",
            "[2 2 2 ... 3 9 7] [3 2 2 ... 3 7 7]\n",
            "0.8392926829268292\n",
            "Iteration:  310\n",
            "[3 2 2 ... 3 9 7] [3 2 2 ... 3 7 7]\n",
            "0.8417560975609756\n",
            "Iteration:  320\n",
            "[3 2 2 ... 3 9 7] [3 2 2 ... 3 7 7]\n",
            "0.8437560975609756\n",
            "Iteration:  330\n",
            "[3 2 2 ... 3 9 7] [3 2 2 ... 3 7 7]\n",
            "0.8454878048780488\n",
            "Iteration:  340\n",
            "[3 2 2 ... 3 9 7] [3 2 2 ... 3 7 7]\n",
            "0.8477073170731707\n",
            "Iteration:  350\n",
            "[3 2 2 ... 3 9 7] [3 2 2 ... 3 7 7]\n",
            "0.8490731707317073\n",
            "Iteration:  360\n",
            "[3 2 2 ... 3 9 7] [3 2 2 ... 3 7 7]\n",
            "0.851\n",
            "Iteration:  370\n",
            "[3 2 2 ... 3 9 7] [3 2 2 ... 3 7 7]\n",
            "0.8526341463414634\n",
            "Iteration:  380\n",
            "[3 2 2 ... 3 9 7] [3 2 2 ... 3 7 7]\n",
            "0.854390243902439\n",
            "Iteration:  390\n",
            "[3 2 2 ... 3 9 7] [3 2 2 ... 3 7 7]\n",
            "0.8562195121951219\n",
            "Iteration:  400\n",
            "[3 2 2 ... 3 9 7] [3 2 2 ... 3 7 7]\n",
            "0.8573658536585366\n",
            "Iteration:  410\n",
            "[3 2 2 ... 3 9 7] [3 2 2 ... 3 7 7]\n",
            "0.8585121951219512\n",
            "Iteration:  420\n",
            "[3 2 2 ... 3 9 7] [3 2 2 ... 3 7 7]\n",
            "0.8599756097560975\n",
            "Iteration:  430\n",
            "[3 2 2 ... 3 9 7] [3 2 2 ... 3 7 7]\n",
            "0.8613170731707317\n",
            "Iteration:  440\n",
            "[3 2 2 ... 3 9 7] [3 2 2 ... 3 7 7]\n",
            "0.8623414634146341\n",
            "Iteration:  450\n",
            "[3 2 2 ... 3 9 7] [3 2 2 ... 3 7 7]\n",
            "0.8636585365853658\n",
            "Iteration:  460\n",
            "[3 2 2 ... 3 9 7] [3 2 2 ... 3 7 7]\n",
            "0.8646341463414634\n",
            "Iteration:  470\n",
            "[3 2 2 ... 3 9 7] [3 2 2 ... 3 7 7]\n",
            "0.8659024390243902\n",
            "Iteration:  480\n",
            "[3 2 2 ... 3 9 7] [3 2 2 ... 3 7 7]\n",
            "0.8671707317073171\n",
            "Iteration:  490\n",
            "[3 2 2 ... 3 9 7] [3 2 2 ... 3 7 7]\n",
            "0.8681707317073171\n",
            "Iteration:  500\n",
            "[3 2 2 ... 3 9 7] [3 2 2 ... 3 7 7]\n",
            "0.8690975609756098\n",
            "Iteration:  510\n",
            "[3 2 2 ... 3 9 7] [3 2 2 ... 3 7 7]\n",
            "0.8700243902439024\n",
            "Iteration:  520\n",
            "[3 2 2 ... 3 9 7] [3 2 2 ... 3 7 7]\n",
            "0.8711951219512195\n",
            "Iteration:  530\n",
            "[3 2 2 ... 3 9 7] [3 2 2 ... 3 7 7]\n",
            "0.8720731707317073\n",
            "Iteration:  540\n",
            "[3 2 2 ... 3 9 7] [3 2 2 ... 3 7 7]\n",
            "0.8729268292682927\n",
            "Iteration:  550\n",
            "[3 2 2 ... 3 9 7] [3 2 2 ... 3 7 7]\n",
            "0.873780487804878\n",
            "Iteration:  560\n",
            "[3 2 2 ... 3 9 7] [3 2 2 ... 3 7 7]\n",
            "0.8746829268292683\n",
            "Iteration:  570\n",
            "[3 2 2 ... 3 9 7] [3 2 2 ... 3 7 7]\n",
            "0.8754146341463415\n",
            "Iteration:  580\n",
            "[3 2 2 ... 3 9 7] [3 2 2 ... 3 7 7]\n",
            "0.876\n",
            "Iteration:  590\n",
            "[3 2 2 ... 3 9 7] [3 2 2 ... 3 7 7]\n",
            "0.8763658536585366\n",
            "Iteration:  600\n",
            "[3 2 2 ... 3 9 7] [3 2 2 ... 3 7 7]\n",
            "0.8770487804878049\n",
            "Iteration:  610\n",
            "[3 2 2 ... 3 9 7] [3 2 2 ... 3 7 7]\n",
            "0.877609756097561\n",
            "Iteration:  620\n",
            "[3 2 2 ... 3 9 7] [3 2 2 ... 3 7 7]\n",
            "0.8784634146341463\n",
            "Iteration:  630\n",
            "[3 2 2 ... 3 9 7] [3 2 2 ... 3 7 7]\n",
            "0.8792926829268293\n",
            "Iteration:  640\n",
            "[3 2 2 ... 3 9 7] [3 2 2 ... 3 7 7]\n",
            "0.8798780487804878\n"
          ]
        }
      ]
    },
    {
      "cell_type": "markdown",
      "source": [
        "~88% accuracy on training set."
      ],
      "metadata": {
        "id": "tVJGWtBsmDr-"
      }
    },
    {
      "cell_type": "code",
      "source": [
        "def make_predictions(X, W1, b1, W2, b2):\n",
        "    _, _, _, A2 = forward_prop(W1, b1, W2, b2, X)\n",
        "    predictions = get_predictions(A2)\n",
        "    return predictions\n",
        "\n",
        "def test_prediction(index, W1, b1, W2, b2):\n",
        "    current_image = X_train[:, index, None]\n",
        "    prediction = make_predictions(X_train[:, index, None], W1, b1, W2, b2)\n",
        "    label = Y_train[index]\n",
        "    print(\"Prediction: \", prediction)\n",
        "    print(\"Label: \", label)\n",
        "\n",
        "    current_image = current_image.reshape((28, 28)) * 255\n",
        "    plt.gray()\n",
        "    plt.imshow(current_image, interpolation='nearest')\n",
        "    plt.show()"
      ],
      "metadata": {
        "trusted": true,
        "id": "EaKKZM0qmDr_"
      },
      "execution_count": 17,
      "outputs": []
    },
    {
      "cell_type": "markdown",
      "source": [
        "Let's look at a couple of examples:"
      ],
      "metadata": {
        "id": "465mTgJlmDr_"
      }
    },
    {
      "cell_type": "code",
      "source": [
        "test_prediction(0, W1, b1, W2, b2)\n",
        "test_prediction(1, W1, b1, W2, b2)\n",
        "test_prediction(2, W1, b1, W2, b2)\n",
        "test_prediction(3, W1, b1, W2, b2)\n",
        "test_prediction(28, W1, b1, W2, b2)"
      ],
      "metadata": {
        "trusted": true,
        "id": "HhAqOdy3mDr_",
        "colab": {
          "base_uri": "https://localhost:8080/",
          "height": 1000
        },
        "outputId": "581014ec-875d-4d94-8f61-c6b318aeec74"
      },
      "execution_count": 18,
      "outputs": [
        {
          "output_type": "stream",
          "name": "stdout",
          "text": [
            "Prediction:  [3]\n",
            "Label:  3\n"
          ]
        },
        {
          "output_type": "display_data",
          "data": {
            "text/plain": [
              "<Figure size 640x480 with 1 Axes>"
            ],
            "image/png": "[encoded data removed]"
          },
          "metadata": {}
        },
        {
          "output_type": "stream",
          "name": "stdout",
          "text": [
            "Prediction:  [2]\n",
            "Label:  2\n"
          ]
        },
        {
          "output_type": "display_data",
          "data": {
            "text/plain": [
              "<Figure size 640x480 with 1 Axes>"
            ],
            "image/png": "[encoded data removed]"
          },
          "metadata": {}
        },
        {
          "output_type": "stream",
          "name": "stdout",
          "text": [
            "Prediction:  [2]\n",
            "Label:  2\n"
          ]
        },
        {
          "output_type": "display_data",
          "data": {
            "text/plain": [
              "<Figure size 640x480 with 1 Axes>"
            ],
            "image/png": "[encoded data removed]"
          },
          "metadata": {}
        },
        {
          "output_type": "stream",
          "name": "stdout",
          "text": [
            "Prediction:  [4]\n",
            "Label:  4\n"
          ]
        },
        {
          "output_type": "display_data",
          "data": {
            "text/plain": [
              "<Figure size 640x480 with 1 Axes>"
            ],
            "image/png": "[encoded data removed]"
          },
          "metadata": {}
        },
        {
          "output_type": "stream",
          "name": "stdout",
          "text": [
            "Prediction:  [7]\n",
            "Label:  7\n"
          ]
        },
        {
          "output_type": "display_data",
          "data": {
            "text/plain": [
              "<Figure size 640x480 with 1 Axes>"
            ],
            "image/png": "[encoded data removed]"
          },
          "metadata": {}
        }
      ]
    },
    {
      "cell_type": "markdown",
      "source": [
        "Finally, let's find the accuracy on the dev set:"
      ],
      "metadata": {
        "id": "3UPNah3zmDr_"
      }
    },
    {
      "cell_type": "code",
      "source": [
        "dev_predictions = make_predictions(X_dev, W1, b1, W2, b2)\n",
        "get_accuracy(dev_predictions, Y_dev)"
      ],
      "metadata": {
        "trusted": true,
        "id": "syMVQ4VSmDr_",
        "colab": {
          "base_uri": "https://localhost:8080/"
        },
        "outputId": "4524e0f5-dec8-44f4-819b-86c6eb849431"
      },
      "execution_count": 19,
      "outputs": [
        {
          "output_type": "stream",
          "name": "stdout",
          "text": [
            "[1 2 5 6 1 8 9 3 5 6 1 6 9 7 8 7 0 2 4 6 2 6 7 8 8 8 1 6 4 5 2 4 6 6 1 0 4\n",
            " 0 6 2 1 0 1 7 8 2 5 0 6 1 4 9 4 2 7 1 3 8 2 6 3 1 9 4 6 4 1 3 7 0 8 3 1 4\n",
            " 8 7 4 2 0 9 8 5 6 0 1 9 8 2 5 2 5 3 5 0 3 4 6 8 7 5 6 2 2 8 6 9 1 5 9 7 7\n",
            " 2 0 6 8 6 6 4 7 6 4 4 9 7 3 5 7 6 0 8 6 1 9 5 1 2 7 8 2 8 7 1 8 5 8 1 0 4\n",
            " 5 4 7 1 5 2 5 1 0 4 1 2 8 1 3 1 7 5 8 8 4 4 1 1 8 2 4 0 7 1 1 0 8 1 2 1 9\n",
            " 4 4 1 7 2 3 5 4 2 7 8 4 1 8 0 5 5 6 2 5 5 2 4 6 1 8 5 1 0 9 5 7 9 5 2 3 7\n",
            " 0 6 5 1 6 9 3 2 2 9 2 4 0 4 0 3 8 3 0 6 0 2 5 3 8 3 6 7 9 3 3 9 3 5 9 7 7\n",
            " 0 2 4 6 6 4 4 2 0 5 4 0 8 8 6 8 3 3 8 4 1 6 7 0 9 7 7 7 3 0 8 0 4 1 0 9 5\n",
            " 3 7 1 6 4 8 6 9 7 5 6 1 9 7 2 7 7 9 4 9 3 2 0 4 1 4 6 0 4 7 3 2 6 9 7 1 4\n",
            " 4 0 5 0 2 7 7 7 5 4 0 9 5 1 4 5 8 8 2 0 9 7 2 5 4 0 4 8 1 8 6 6 6 0 9 2 0\n",
            " 1 1 6 2 8 0 7 4 1 2 0 4 9 1 5 1 5 1 0 1 6 1 2 0 1 9 2 7 5 7 0 3 1 0 1 5 4\n",
            " 8 4 0 3 9 6 3 5 9 7 6 8 0 6 1 9 3 7 7 2 7 2 3 3 5 9 8 1 5 0 1 2 2 5 3 5 1\n",
            " 3 5 5 2 6 6 5 5 4 6 3 9 1 7 2 0 3 8 8 6 1 4 4 6 4 1 3 6 6 0 7 4 0 1 0 3 1\n",
            " 6 2 7 3 0 1 1 2 4 9 4 6 0 2 7 1 2 7 1 9 3 4 5 8 0 2 3 1 7 2 3 5 5 4 5 0 0\n",
            " 9 6 5 0 6 2 9 2 9 9 6 6 1 5 6 9 3 5 3 6 0 4 5 9 8 3 4 9 8 0 4 4 6 2 3 2 3\n",
            " 0 1 0 9 7 4 6 2 1 0 0 3 5 9 2 7 5 1 0 2 9 1 5 4 8 8 4 0 1 1 1 9 5 7 4 7 6\n",
            " 5 6 8 6 1 6 7 8 6 3 9 6 3 4 6 3 7 8 7 2 1 4 0 3 6 0 7 4 7 3 8 4 1 7 4 9 8\n",
            " 1 6 2 7 8 5 6 4 3 2 5 2 2 8 1 4 2 9 3 3 6 5 4 3 9 4 6 4 4 2 5 7 7 1 2 7 3\n",
            " 2 0 8 9 1 8 5 6 0 0 6 4 7 5 5 4 1 8 3 8 8 9 9 9 5 7 0 4 6 0 9 0 8 4 7 2 8\n",
            " 1 4 2 6 0 1 1 9 7 9 1 0 3 0 4 9 6 4 7 1 7 1 4 6 2 9 0 0 5 9 4 5 3 6 4 0 1\n",
            " 9 4 7 7 6 0 0 3 5 3 2 9 8 3 3 7 5 8 0 8 4 7 7 8 5 4 2 8 6 2 5 0 8 1 1 6 5\n",
            " 3 1 9 6 8 8 4 5 5 5 7 5 1 6 1 0 1 0 9 9 1 5 1 8 4 0 5 6 4 7 2 1 9 7 3 0 3\n",
            " 7 4 0 6 3 4 1 0 5 8 1 2 0 6 1 8 7 5 6 2 2 2 0 4 9 7 0 2 7 1 2 5 6 5 9 8 7\n",
            " 3 8 4 6 1 8 9 2 9 6 6 1 3 8 2 8 6 6 4 0 2 7 5 4 8 6 7 9 1 3 9 7 0 7 6 4 9\n",
            " 4 3 6 5 2 6 8 4 6 4 0 8 4 2 9 0 6 1 9 4 8 1 6 1 4 1 1 4 1 5 1 7 6 8 6 7 9\n",
            " 7 4 7 4 8 2 7 5 8 9 9 3 3 0 0 2 5 3 1 3 4 6 9 6 1 8 3 2 2 4 1 8 4 5 3 8 0\n",
            " 1 0 3 4 5 0 4 4 2 0 6 2 1 6 1 6 6 5 6 5 1 3 9 3 4 7 5 0 6 7 4 3 8 1 7 2 4\n",
            " 6] [1 2 5 6 1 8 7 3 5 5 1 6 9 7 5 7 0 2 4 6 2 6 7 8 3 8 1 6 9 5 2 4 6 6 8 0 4\n",
            " 0 6 2 1 0 1 7 8 7 5 0 6 1 4 9 4 2 7 1 3 8 2 6 2 3 7 4 6 4 1 3 7 0 8 8 1 4\n",
            " 8 7 4 2 0 9 8 5 6 0 1 9 4 2 5 9 5 2 5 0 3 4 6 8 7 5 6 2 2 8 8 9 1 5 9 7 7\n",
            " 2 0 6 8 6 6 4 7 6 4 4 9 7 3 5 7 6 0 8 6 1 9 3 1 2 3 8 2 8 7 1 8 5 8 1 0 4\n",
            " 8 4 7 1 0 2 5 1 0 2 1 2 8 1 3 1 7 5 8 9 4 4 1 1 8 3 4 0 7 1 1 0 8 1 2 2 9\n",
            " 9 4 1 7 2 3 5 4 2 7 8 6 1 8 5 5 5 6 2 5 5 2 4 6 1 8 5 1 0 9 5 7 9 3 2 3 7\n",
            " 0 6 5 1 6 9 3 2 2 9 2 4 6 4 0 3 8 3 0 6 0 2 5 3 8 3 6 7 9 3 3 9 3 5 9 7 7\n",
            " 0 2 4 6 6 7 4 2 0 5 4 0 8 8 6 3 3 5 8 4 1 6 7 0 9 7 7 7 3 0 2 0 4 8 0 9 5\n",
            " 5 7 1 6 4 8 6 7 7 5 6 1 9 9 2 9 7 9 4 9 3 2 0 4 1 4 5 0 9 7 3 0 6 9 7 1 4\n",
            " 9 5 9 0 2 7 7 7 5 4 0 9 5 2 4 5 8 8 2 0 4 7 2 5 7 0 4 8 4 8 6 6 6 0 8 2 0\n",
            " 1 1 6 2 8 0 7 4 1 3 0 4 9 1 5 1 5 1 0 1 6 1 2 0 1 9 2 7 5 7 0 3 1 0 1 5 4\n",
            " 8 4 0 1 9 6 3 5 9 7 2 8 0 6 1 4 3 7 7 2 7 2 5 3 5 9 8 1 5 0 1 2 2 5 3 5 1\n",
            " 3 5 5 2 6 6 5 5 4 6 3 9 1 7 4 0 3 6 8 6 1 6 4 6 4 1 3 6 6 6 7 4 0 1 0 3 1\n",
            " 6 2 7 3 0 1 1 2 4 9 4 6 0 9 7 1 2 7 1 9 3 4 3 9 0 2 3 1 7 2 3 5 5 4 5 0 0\n",
            " 9 6 5 0 5 2 9 2 7 9 6 6 1 5 6 9 3 5 3 2 0 9 6 9 8 3 2 9 3 0 7 4 0 2 8 2 3\n",
            " 9 1 0 9 7 4 5 2 1 0 6 2 5 9 2 7 5 1 0 2 5 1 5 4 8 8 4 0 8 1 1 9 5 7 4 7 6\n",
            " 5 6 8 6 1 5 7 8 6 2 9 6 3 9 6 3 7 8 7 2 1 4 0 3 6 0 9 4 7 3 8 9 1 7 4 9 8\n",
            " 1 6 2 7 8 5 6 4 3 2 5 2 2 8 1 4 2 9 3 3 6 5 4 3 9 4 6 4 4 2 5 7 7 1 3 7 2\n",
            " 2 0 2 8 1 8 5 4 2 0 6 4 7 5 5 4 1 8 3 8 8 9 9 9 3 7 0 4 6 0 9 0 4 4 7 2 8\n",
            " 1 7 0 6 0 1 1 9 7 9 1 0 3 0 4 9 6 4 9 1 2 1 4 6 2 9 0 0 5 9 4 5 2 2 6 0 1\n",
            " 9 4 7 9 6 0 0 3 5 3 3 4 4 3 0 9 5 8 9 8 4 7 7 8 5 4 2 8 6 2 5 0 8 1 1 6 5\n",
            " 3 1 9 6 8 2 4 4 3 5 7 5 1 6 1 0 1 0 9 9 1 5 1 8 4 0 8 6 7 7 2 8 9 7 3 0 2\n",
            " 7 4 0 6 3 4 1 0 5 8 1 2 0 6 1 8 7 5 6 2 2 2 0 2 9 7 0 2 7 1 2 5 6 5 9 8 7\n",
            " 3 8 4 6 1 8 9 7 9 6 6 1 3 8 2 8 2 6 4 0 2 7 5 4 8 6 7 8 1 3 9 7 0 7 6 4 9\n",
            " 0 3 6 5 2 6 8 2 6 4 0 8 4 3 9 0 6 1 9 4 8 1 2 1 4 1 1 4 3 5 1 7 6 8 6 7 9\n",
            " 3 4 7 4 0 2 7 2 8 3 9 3 3 0 0 2 3 3 1 8 5 4 9 6 1 8 3 2 2 0 1 8 4 5 3 8 0\n",
            " 1 0 3 4 5 0 4 4 2 0 6 2 1 6 1 6 6 5 6 3 1 5 9 3 4 7 5 0 6 7 4 3 8 1 7 2 4\n",
            " 6]\n"
          ]
        },
        {
          "output_type": "execute_result",
          "data": {
            "text/plain": [
              "0.87"
            ]
          },
          "metadata": {},
          "execution_count": 19
        }
      ]
    },
    {
      "cell_type": "markdown",
      "source": [
        "Still 87% accuracy, so our model generalized from the training data pretty well."
      ],
      "metadata": {
        "id": "tf23E5BemDr_"
      }
    }
  ]
}